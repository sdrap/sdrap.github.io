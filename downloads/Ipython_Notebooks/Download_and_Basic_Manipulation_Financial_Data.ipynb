{
 "cells": [
  {
   "cell_type": "markdown",
   "metadata": {},
   "source": [
    "# Import and Basic Manipulations of Financial Data\n",
    "\n",
    "This notebook present the basics of importing and manipulating financial data. I use a fresh Anaconda installation for Python 3.4.\n",
    "\n",
    "## Library used:\n",
    "\n",
    "* Numpy: scientific library for python\n",
    "* Matplotlib: library to realize plots\n",
    "* Seaborn: to make nice plots. As to now, is not part of the standard installation in Anaconda. Provided that you have an internet connection, in the Anaconda command line run the following command:\n",
    "    > `conda install seaborn`\n",
    "* pandas: library for data manipulation and analysis\n",
    "* pandas_datareader: library to import the data from the web (yahoo finance, google finance, etc.) into pandas object.  As to now, is not part of the standard installation in Anaconda. Provided that you have an internet connection, in the Anaconda command line run the following command:\n",
    "    > `pip install pandas_datareader`"
   ]
  },
  {
   "cell_type": "code",
   "execution_count": null,
   "metadata": {},
   "outputs": [],
   "source": [
    "%matplotlib inline\n",
    "\n",
    "import numpy as np  # this imports the NumPy library\n",
    "import matplotlib.pyplot as plt\n",
    "import seaborn as sns\n",
    "sns.set(context=\"talk\")\n",
    "\n",
    "\n",
    "import pandas as pd\n",
    "from pandas_datareader import data as web\n",
    "from datetime import datetime\n"
   ]
  },
  {
   "cell_type": "markdown",
   "metadata": {
    "collapsed": false
   },
   "source": [
    "## Import of Historical Stock Price from Yahoo and Basic Manipulations\n",
    "\n",
    "To get the historical daily prices from [Yahoo](http://finance.yahoo.com/), you need\n",
    "* the tick codes (for instance 'MSFT' for Microsoft) of the stocks you want\n",
    "* the time span: start and end\n"
   ]
  },
  {
   "cell_type": "code",
   "execution_count": null,
   "metadata": {},
   "outputs": [],
   "source": [
    "start = datetime(2001, 1, 1)\n",
    "end = datetime(2015,6,1)\n",
    "stock_tickers = 'MSFT'\n",
    "msft = web.DataReader(stock_tickers, \"yahoo\", start, end)\n"
   ]
  },
  {
   "cell_type": "code",
   "execution_count": null,
   "metadata": {},
   "outputs": [],
   "source": [
    "# Print the first 10 lines of our data\n",
    "msft[:10]"
   ]
  },
  {
   "cell_type": "markdown",
   "metadata": {},
   "source": [
    "Add different the moving averages to our data.\n",
    "\n",
    "For a given length $N$, the moving average $MA(x,N)$ of a sample $x=(x_0,x_1,\\ldots,x_t,\\ldots)$ is given by\n",
    "\\begin{equation*}\n",
    "    MA_t(x,N)=\\frac{1}{N}\\sum_{k=t-(N-1)}^t x_k,\\quad t\\geq N+1\n",
    "\\end{equation*}"
   ]
  },
  {
   "cell_type": "code",
   "execution_count": null,
   "metadata": {},
   "outputs": [],
   "source": [
    "msft['MA7']   = pd.rolling_mean(msft['Adj Close'], 7)\n",
    "msft['MA30']  = pd.rolling_mean(msft['Adj Close'], 30)\n",
    "msft['MA90']  = pd.rolling_mean(msft['Adj Close'], 90)\n",
    "msft['MA120'] = pd.rolling_mean(msft['Adj Close'], 120)"
   ]
  },
  {
   "cell_type": "markdown",
   "metadata": {},
   "source": [
    "And plot it with matplot lib beautified by seaborn:"
   ]
  },
  {
   "cell_type": "code",
   "execution_count": null,
   "metadata": {},
   "outputs": [],
   "source": [
    "msft[:][['Adj Close','MA120']].plot(figsize=(15,8),linewidth='1')"
   ]
  },
  {
   "cell_type": "code",
   "execution_count": null,
   "metadata": {},
   "outputs": [],
   "source": [
    "# To remove the message <matplotlib.axes._subplots.AxesSubplot at 0x7f70656e5860> from the plot outputs\n",
    "# assign a temporarry name to the plot as follows\n",
    "_ = msft[:][['Adj Close','MA120']].plot(figsize=(15,8),linewidth='1')"
   ]
  },
  {
   "cell_type": "code",
   "execution_count": null,
   "metadata": {},
   "outputs": [],
   "source": [
    "_ = msft['2008':'2009'][['Adj Close','MA30','MA90','MA120']].plot(figsize=(15,8),linewidth='1')"
   ]
  },
  {
   "cell_type": "code",
   "execution_count": null,
   "metadata": {},
   "outputs": [],
   "source": [
    "_ = msft['2015'][['Adj Close','MA7','MA30']].plot(figsize=(15,8),linewidth='1')"
   ]
  },
  {
   "cell_type": "markdown",
   "metadata": {},
   "source": [
    "We can add to any Pandas object new rows and use the intern computation mehtods of these objects which are way more efficient than standard loops.\n",
    "\n",
    "If we denote by $S=S_0,\\ldots,S_t,\\ldots$ the stock price we add to the panda object\n",
    "* the returns $R=R_1,\\ldots,R_t,\\ldots$ defined as  $S_t=S_{t-1}(1+R_t)$, that is $R_t=(S_t-S_{t-1})/S_{t-1}$;\n",
    "* the log prices $s=s_0,\\ldots,s_t,\\ldots$ defined as $s_t=\\ln(S_t)$;\n",
    "* the log returns $r=r_1,\\ldots,r_t,\\ldots$ defind as $r_t=\\ln(1+R_t)=\\ln(S_t/S_{t-1})=s_t-s_{t-1}$;\n"
   ]
  },
  {
   "cell_type": "code",
   "execution_count": null,
   "metadata": {},
   "outputs": [],
   "source": [
    "msft['Log Price']=np.log(msft['Adj Close']) # add the colon Log Price filled with the log of adj close\n",
    "msft['Return']=(msft['Adj Close'] - msft['Adj Close'].shift(1))/msft['Adj Close'].shift(1) # use the efficient shift method instead of a panfull loop\n",
    "msft['Log Return']=(msft['Log Price']-msft['Log Price'].shift(1)) # idem here"
   ]
  },
  {
   "cell_type": "markdown",
   "metadata": {},
   "source": [
    "And plot them"
   ]
  },
  {
   "cell_type": "code",
   "execution_count": null,
   "metadata": {},
   "outputs": [],
   "source": [
    "_ = msft[:][['Adj Close','Log Price', 'Log Return']].plot(subplots=True, figsize=(15,10), linewidth='1')"
   ]
  },
  {
   "cell_type": "code",
   "execution_count": null,
   "metadata": {},
   "outputs": [],
   "source": [
    "_ = msft[:][['Log Return']].plot.hist(figsize=(15,8), linewidth='1', bins=100)"
   ]
  },
  {
   "cell_type": "markdown",
   "metadata": {},
   "source": [
    "## Geometric Brownian Motion as a Basic Model\n",
    "\n",
    "The most basic assumption about stock prices is that the log returns are iid and normally distributed, that is $r_t\\sim \\mathcal{N}(\\mu,\\sigma)$, where $\\mathcal{N}(\\mu,\\sigma)$ is the normal probability distribution:\n",
    "\\begin{equation*}\n",
    "    P[r_t \\in A]=\\frac{1}{\\sqrt{2\\pi \\sigma^2}}\\int_A \\exp\\left(-\\frac{(x-\\mu)^2}{2\\sigma^2}\\right) dx, \\quad A\\subseteq \\mathbb{R}\\text{ Borel set.}\n",
    "\\end{equation*}\n",
    "In other terms\n",
    "\\begin{equation*}\n",
    "    r_t=\\mu+\\sigma Z_t\n",
    "\\end{equation*}\n",
    "where $Z_0,\\ldots, Z_t,\\ldots$ are iid and $Z_t\\sim \\mathcal{N}(0,1)$. "
   ]
  },
  {
   "cell_type": "code",
   "execution_count": null,
   "metadata": {},
   "outputs": [],
   "source": [
    "from scipy.stats import norm\n",
    "\n",
    "range = np.arange(-0.07, 0.07, 0.00001)\n",
    "\n",
    "fig, axn = plt.subplots(figsize=(15, 10))\n",
    "\n",
    "axn.plot(range, norm.pdf(range, 0, 0.005), linewidth='1',label='mu=0 and sigma=0.005')\n",
    "axn.plot(range, norm.pdf(range, 0.001, 0.01), linewidth='1', label='mu=0.001 and sigma=0.01')\n",
    "axn.plot(range, norm.pdf(range, -0.01, 0.015), linewidth='1', label='mu=-0.01 and sigma=0.015')\n",
    "\n",
    "_ = plt.legend(loc='best')"
   ]
  },
  {
   "cell_type": "markdown",
   "metadata": {},
   "source": [
    "Following this model, we compute the mean and standard deviation from our data"
   ]
  },
  {
   "cell_type": "code",
   "execution_count": null,
   "metadata": {},
   "outputs": [],
   "source": [
    "mu = msft['Log Return'].mean()\n",
    "sigma =msft['Log Return'].std()\n",
    "\n",
    "print(mu,sigma)"
   ]
  },
  {
   "cell_type": "markdown",
   "metadata": {},
   "source": [
    "And plot sample paths for the price, log price, return and log return when the log return is given by the geometric brownian motion over the period start/end given for the stock price above."
   ]
  },
  {
   "cell_type": "code",
   "execution_count": null,
   "metadata": {},
   "outputs": [],
   "source": [
    "dates = pd.date_range(start, end)\n",
    "\n",
    "# generate 3 sample paths of log returns\n",
    "\n",
    "stock = pd.DataFrame(mu + sigma * np.random.randn(len(dates), 3), index=dates, columns=['Log Return0', 'Log Return1', 'Log Return2'])\n",
    "stock[['Log Price0', 'Log Price1','Log Price2']] = stock[['Log Return0', 'Log Return1', 'Log Return2']].cumsum()\n",
    "stock[['Return0', 'Return1','Return2']] = np.exp(stock[['Log Return0', 'Log Return1', 'Log Return2']])-1\n",
    "stock[['Price0', 'Price1','Price2']] = (1+stock[['Return0', 'Return1', 'Return2']]).cumprod()"
   ]
  },
  {
   "cell_type": "code",
   "execution_count": null,
   "metadata": {},
   "outputs": [],
   "source": [
    "_ = stock[:][['Price0', 'Price1','Price2']].plot(figsize=(15,8), linewidth=1)\n",
    "_ = stock[:][['Log Price0', 'Log Price1','Log Price2']].plot(figsize=(15,8), linewidth=1)\n"
   ]
  },
  {
   "cell_type": "code",
   "execution_count": null,
   "metadata": {},
   "outputs": [],
   "source": [
    "_ = stock[:][['Return0', 'Return1', 'Return2']].plot(subplots=True, figsize=(15,15), linewidth=1, alpha=0.5)\n",
    "_ = stock[:][['Return0','Return1','Return2']].plot.hist(subplots=True, figsize=(15,10), bins=100, alpha=0.5)\n"
   ]
  },
  {
   "cell_type": "markdown",
   "metadata": {},
   "source": [
    "We want to compare the log returns from the datas with respect to the model. We therefore concatenate the objects and plot them.\n",
    "\n",
    "You see that the geometric brownian motion is far from reality."
   ]
  },
  {
   "cell_type": "code",
   "execution_count": null,
   "metadata": {},
   "outputs": [],
   "source": [
    "comp_logreturn = pd.concat([msft['Log Return'], stock['Log Return0'], stock['Log Return1'], stock['Log Return2']], axis =1)\n",
    "\n",
    "linewidths = [1, 0.2, 0.2, 0.2, 0.2, 0.2]\n",
    "fig, ax = plt.subplots(figsize=(15,10))\n",
    "for col, lw in zip(comp_logreturn.columns, linewidths):\n",
    "    comp_logreturn[col].cumsum().plot(lw=lw, ax=ax, legend=col)\n",
    "\n",
    "_= plt.legend(loc='best')\n"
   ]
  },
  {
   "cell_type": "code",
   "execution_count": null,
   "metadata": {},
   "outputs": [],
   "source": [
    "_ = comp_logreturn[['Log Return', 'Log Return0', 'Log Return1', 'Log Return2']].plot(figsize=(15,15), subplots=True, linewidth=1, ylim=[-0.15,0.20])"
   ]
  },
  {
   "cell_type": "code",
   "execution_count": null,
   "metadata": {},
   "outputs": [],
   "source": [
    "_ = comp_logreturn[['Log Return', 'Log Return0', 'Log Return1', 'Log Return2']].plot.hist(figsize=(15,20), subplots=True, linewidth=1, bins=100, xlim=[-0.15, 0.20], ylim=[0,400])\n"
   ]
  }
 ],
 "metadata": {
  "kernelspec": {
   "display_name": "Python 3",
   "language": "python",
   "name": "python3"
  },
  "language_info": {
   "codemirror_mode": {
    "name": "ipython",
    "version": 3
   },
   "file_extension": ".py",
   "mimetype": "text/x-python",
   "name": "python",
   "nbconvert_exporter": "python",
   "pygments_lexer": "ipython3",
   "version": "3.4.3"
  }
 },
 "nbformat": 4,
 "nbformat_minor": 0
}
