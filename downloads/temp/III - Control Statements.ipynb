{
 "cells": [
  {
   "cell_type": "markdown",
   "metadata": {},
   "source": [
    "# Control Flow Statements"
   ]
  },
  {
   "cell_type": "markdown",
   "metadata": {},
   "source": [
    "## If\n",
    "\n",
    "If this:\n",
    "\n",
    "    *do it\n",
    "    \n",
    "## If-else\n",
    "\n",
    "If this:\n",
    "\n",
    "    *do it\n",
    "\n",
    "else:\n",
    "\n",
    "    *do whatever*\n",
    "    \n",
    "\n",
    "## if-elif\n",
    "\n",
    "if this:\n",
    "    \n",
    "    do it\n",
    "\n",
    "elif that:\n",
    "    \n",
    "    do something else\n",
    "\n",
    "else:\n",
    "    \n",
    "    do whatever"
   ]
  },
  {
   "cell_type": "code",
   "execution_count": 5,
   "metadata": {
    "collapsed": false
   },
   "outputs": [
    {
     "name": "stdout",
     "output_type": "stream",
     "text": [
      "Cool\n"
     ]
    }
   ],
   "source": [
    "x = 10\n",
    "\n",
    "if x > 5:\n",
    "    print('Cool')"
   ]
  },
  {
   "cell_type": "code",
   "execution_count": 7,
   "metadata": {
    "collapsed": false
   },
   "outputs": [
    {
     "name": "stdout",
     "output_type": "stream",
     "text": [
      "cool\n"
     ]
    }
   ],
   "source": [
    "if x > 5:\n",
    "    print('cool')\n",
    "else:\n",
    "    print('Uncool')"
   ]
  },
  {
   "cell_type": "code",
   "execution_count": 9,
   "metadata": {
    "collapsed": false
   },
   "outputs": [
    {
     "name": "stdout",
     "output_type": "stream",
     "text": [
      "Uncool\n"
     ]
    }
   ],
   "source": [
    "if x > 15:\n",
    "    print('cool')\n",
    "else:\n",
    "    print('Uncool')"
   ]
  },
  {
   "cell_type": "code",
   "execution_count": 10,
   "metadata": {
    "collapsed": false
   },
   "outputs": [
    {
     "name": "stdout",
     "output_type": "stream",
     "text": [
      "Also ok\n"
     ]
    }
   ],
   "source": [
    "if x > 15:\n",
    "    print('cool')\n",
    "elif x >= 10:\n",
    "    print('Also ok')\n",
    "else:\n",
    "    print('Uncool')"
   ]
  },
  {
   "cell_type": "markdown",
   "metadata": {},
   "source": [
    "## For loop\n",
    "\n",
    "for someone in something:\n",
    "    \n",
    "    do that to someone\n",
    "    "
   ]
  },
  {
   "cell_type": "code",
   "execution_count": 12,
   "metadata": {
    "collapsed": false
   },
   "outputs": [
    {
     "name": "stdout",
     "output_type": "stream",
     "text": [
      "0\n",
      "1\n",
      "2\n",
      "3\n",
      "4\n"
     ]
    }
   ],
   "source": [
    "for i in range(5):\n",
    "    print(i)"
   ]
  },
  {
   "cell_type": "code",
   "execution_count": 14,
   "metadata": {
    "collapsed": false
   },
   "outputs": [
    {
     "name": "stdout",
     "output_type": "stream",
     "text": [
      "[1, 2, 3]\n",
      "[4, 5, 6]\n",
      "[7, 8, 9]\n"
     ]
    }
   ],
   "source": [
    "list_of_lists = [[1, 2, 3], [4, 5, 6], [7, 8, 9]]\n",
    "for list1 in list_of_lists:\n",
    "        print(list1)"
   ]
  },
  {
   "cell_type": "code",
   "execution_count": 1,
   "metadata": {
    "collapsed": false
   },
   "outputs": [
    {
     "name": "stdout",
     "output_type": "stream",
     "text": [
      "1\n",
      "2\n",
      "3\n",
      "4\n",
      "5\n",
      "6\n",
      "7\n",
      "8\n",
      "9\n"
     ]
    }
   ],
   "source": [
    "list_of_lists = [[1, 2, 3], [4, 5, 6], [7, 8, 9]]\n",
    "for list1 in list_of_lists:\n",
    "    for x in list1:\n",
    "        print(x)"
   ]
  },
  {
   "cell_type": "markdown",
   "metadata": {},
   "source": [
    "## Example, the Fibonacci Numbers\n",
    "\n",
    "The fibonnacci sequence, is a recursive sequence of depth two.\n",
    "\n",
    "Given start values $a$ and $b$, the sequence $u_0,u_1,\\ldots, u_n,\\ldots$ is defined as\n",
    "\\begin{equation}\n",
    "u_{n+2}=u_{n+1}+u_n\n",
    "\\end{equation}\n",
    "with start values $u_0=a$ and $u_1=b$.\n",
    "\n",
    "we compute and print the ten first fibonacci numbers"
   ]
  },
  {
   "cell_type": "code",
   "execution_count": 6,
   "metadata": {
    "collapsed": false
   },
   "outputs": [
    {
     "name": "stdout",
     "output_type": "stream",
     "text": [
      "1\n",
      "2\n",
      "3\n",
      "5\n",
      "8\n",
      "13\n",
      "21\n",
      "34\n",
      "55\n",
      "89\n"
     ]
    }
   ],
   "source": [
    "\n",
    "a = 1\n",
    "b = 2\n",
    "print(a)\n",
    "\n",
    "for n in range(1,10):\n",
    "    c = b\n",
    "    b = a + b\n",
    "    a = c\n",
    "    print(a)"
   ]
  },
  {
   "cell_type": "markdown",
   "metadata": {},
   "source": [
    "Or easier"
   ]
  },
  {
   "cell_type": "code",
   "execution_count": null,
   "metadata": {
    "collapsed": true
   },
   "outputs": [],
   "source": [
    "a = 1\n",
    "b = 2\n",
    "print(a)\n",
    "for n in range(1,10):\n",
    "    a, b = b"
   ]
  },
  {
   "cell_type": "markdown",
   "metadata": {},
   "source": [
    "If you are interested, you can have a look at while, break, continue, etc."
   ]
  }
 ],
 "metadata": {
  "kernelspec": {
   "display_name": "Python 3",
   "language": "python",
   "name": "python3"
  },
  "language_info": {
   "codemirror_mode": {
    "name": "ipython",
    "version": 3
   },
   "file_extension": ".py",
   "mimetype": "text/x-python",
   "name": "python",
   "nbconvert_exporter": "python",
   "pygments_lexer": "ipython3",
   "version": "3.5.0"
  }
 },
 "nbformat": 4,
 "nbformat_minor": 0
}
