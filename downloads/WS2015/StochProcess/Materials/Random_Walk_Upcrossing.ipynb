{
 "cells": [
  {
   "cell_type": "code",
   "execution_count": null,
   "metadata": {},
   "outputs": [],
   "source": [
    "%matplotlib inline\n",
    "\n",
    "import numpy as np  # this imports the NumPy library\n",
    "import seaborn as sns\n",
    "import matplotlib.pyplot as plt\n",
    "\n",
    "sns.set(context=\"talk\")\n",
    "\n",
    "days = 301 # time horizon\n",
    "\n",
    "def random_walk(startprice):\n",
    "    price = np.zeros(days)\n",
    "    shock = np.round(np.random.rand(days))\n",
    "    price[0] = startprice\n",
    "    for i in range(1, days):\n",
    "        price[i] = price[i-1] + 2*shock[i]-1\n",
    "    return price\n",
    "\n",
    "\n",
    "fig, axn = plt.subplots(figsize=(15, 15))\n",
    "for run in range(1):\n",
    "    axn.plot(random_walk(0), label='time', linewidth='1')\n",
    "\n",
    "axn.plot([0, days-1], [-2, -2], color='k', linestyle='-', linewidth=2)\n",
    "axn.plot([0, days-1], [2, 2], color='k', linestyle='-', linewidth=2)\n"
   ]
  }
 ],
 "metadata": {
  "kernelspec": {
   "display_name": "Python 2",
   "language": "python",
   "name": "python2"
  },
  "language_info": {
   "codemirror_mode": {
    "name": "ipython",
    "version": 2
   },
   "file_extension": ".py",
   "mimetype": "text/x-python",
   "name": "python",
   "nbconvert_exporter": "python",
   "pygments_lexer": "ipython2",
   "version": "2.7.8"
  }
 },
 "nbformat": 4,
 "nbformat_minor": 0
}
